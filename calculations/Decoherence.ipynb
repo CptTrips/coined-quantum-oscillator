{
 "cells": [
  {
   "cell_type": "markdown",
   "metadata": {},
   "source": [
    "# Decoherence rate of a trapped nanoparticle\n",
    "\n",
    "$$\n",
    "\\newcommand{\\Gammatw}{\\frac{P_t}{\\hbar\\omega_L \\pi W_t^2}}\n",
    "\\newcommand{\\Gammacav}{\\frac{n_{ph}c}{2 V_c}}\n",
    "$$\n",
    "\n",
    "From Romero-Isart et. al., PRA 83 013803 (2011) (Eq. 40)\n",
    "\n",
    "$\\Gamma_{sc} = (\\frac{\\hbar}{2m\\omega_t})\\frac{\\epsilon_c^2 k_c^6 V^2}{3 \\pi} (\\Gammatw + \\Gammacav)$\n",
    "\n",
    "(Note that this decoherence rate is scaled by the ground state spread ^ 2, as the prefactor suggests, i.e. $\\rho(x,x') \\propto e^{-\\Gamma_{sc}(\\frac{2m\\omega_t}{\\hbar}) (x-x')^2 t}$)\n",
    "\n",
    "$ = \\frac{\\hbar \\epsilon_c^2 k_c^6 V}{6 \\pi \\rho \\omega_t} (\\Gammatw + \\Gammacav)$\n",
    "\n",
    "and Eq. 27\n",
    "\n",
    "$\\omega_t^2 = \\frac{4\\epsilon_c}{\\rho c} \\frac{P_t}{\\pi W_t^4}$"
   ]
  },
  {
   "cell_type": "markdown",
   "metadata": {},
   "source": [
    "$= \\frac{\\omega_t \\epsilon_c W_t^2 V k_c^5}{24 \\pi }$"
   ]
  },
  {
   "cell_type": "markdown",
   "metadata": {},
   "source": [
    "$\\epsilon_c \\approx 0.6 $ (Nanosphere's dielectric constant)\n",
    "\n",
    "$k_c = \\frac{2 \\pi}{\\lambda_c}$ (Cavity/Laser wavenumber)\n",
    "\n",
    "$\\lambda_c \\approx 1 \\mu m  $(Cavity/Laser wavelength)\n",
    "\n",
    "$V \\approx 500000 nm^3 $(Volume of nanosphere)\n",
    "\n",
    "$\\rho \\approx 3510 kgm^{-3} $(Density of diamond)\n",
    "\n",
    "$\\omega_t \\approx 1 MHz$\n",
    "\n",
    "$P_t \\approx 1.5 mW $(Laser power)\n",
    "\n",
    "$\\omega_L = 2 \\pi c / \\lambda_c $(Laser frequency)\n",
    "\n",
    "$W_t \\approx 0.4 \\mu m $(Laser beam waist)\n",
    "\n",
    "$n_{ph} \\approx 10^9 $(Steady state cavity population)\n",
    "\n",
    "$V_c \\approx 2 10^{-12} m^{-3} $(Cavity mode volume)"
   ]
  },
  {
   "cell_type": "code",
   "execution_count": 19,
   "metadata": {},
   "outputs": [
    {
     "name": "stdout",
     "output_type": "stream",
     "text": [
      "mass: 9.4e-19\n",
      "eps_c: 1.85\n",
      "W_t: 3.77e-07\n",
      "omega_t: 2*pi * 6.51e+04\n",
      "V_c: 2.12e-12\n"
     ]
    }
   ],
   "source": [
    "from math import sqrt, atanh, expm1\n",
    "\n",
    "# Physical Constants\n",
    "pi = 3.14;\n",
    "c = 3e8 #ms^-1\n",
    "hbar = 1.05e-34\n",
    "\n",
    "# Nanosphere properties\n",
    "rho = 3510 #kgm^-3\n",
    "r = 4e-8 #m\n",
    "V = 4/3 * pi * r**3 #m^3\n",
    "m = rho * V\n",
    "print(\"mass: {:.3g}\".format(m))\n",
    "n_diamond = 2.4175 # At 0.5nm\n",
    "eps_c = 3*(n_diamond**2 - 1) / (n_diamond**2 + 2)\n",
    "print(\"eps_c: {:.3g}\".format(eps_c))\n",
    "\n",
    "# Laser & tweezer properties\n",
    "lambda_c = 1.064e-6 #m\n",
    "k_c = 2*pi/lambda_c #m^-1\n",
    "omega_L = 2 * pi * c / lambda_c #Hz\n",
    "P_t = 1.5e-3 #W\n",
    "NA = 0.9\n",
    "W_t = lambda_c / (pi*NA)#\\ 0.4e-6 #m\n",
    "print(\"W_t: {:.3g}\".format(W_t))\n",
    "omega_t = sqrt(4 * eps_c * P_t / (rho * c * pi * W_t**4))\n",
    "print(\"omega_t: 2*pi * {:.3g}\".format(omega_t/(2*pi)))\n",
    "\n",
    "# Cavity Properties\n",
    "n_ph = 7e8\n",
    "L = 4e-3 #m\n",
    "W_c = 2.6e-5 #m\n",
    "V_c = L * pi * W_c**2 / 4 #m^-3\n",
    "print(\"V_c: {:.3g}\".format(V_c))"
   ]
  },
  {
   "cell_type": "code",
   "execution_count": 14,
   "metadata": {},
   "outputs": [
    {
     "name": "stdout",
     "output_type": "stream",
     "text": [
      "Pflanzer cross-section: 7.55e-26\n",
      "\n",
      "Tweezer flux: 7.25e+28\n",
      "Cavity flux: 0\n",
      "\n",
      "Gamma_sc = 2 * pi * 0.871 kHz\n",
      "Coherence time: 0.183 ms (150 cycles)\n"
     ]
    }
   ],
   "source": [
    "cs_Pflanzer = hbar*eps_c**2 * k_c**6 * V / (6 * pi * rho * omega_t)\n",
    "cs = cs_Pflanzer\n",
    "\n",
    "\n",
    "print(\"Pflanzer cross-section: {:.3g}\".format(cs_Pflanzer))\n",
    "print()\n",
    "\n",
    "\n",
    "flux_tw = P_t / (hbar*omega_L * pi * W_t**2)\n",
    "flux_cav = 0* n_ph * c / (2*V_c)\n",
    "\n",
    "print(\"Tweezer flux: {:.3g}\".format(flux_tw))\n",
    "print(\"Cavity flux: {:.3g}\".format(flux_cav))\n",
    "print()\n",
    "\n",
    "Gamma_tw = cs * flux_tw\n",
    "Gamma_cav = cs * flux_cav\n",
    "Gamma_sc = Gamma_tw + Gamma_cav\n",
    "\n",
    "print(\"Gamma_sc = 2 * pi * {:.3g} kHz\".format(Gamma_sc/(2*pi*1000)))\n",
    "print(\"Coherence time: {:.3g} ms ({:.3g} cycles)\".format(1000/Gamma_sc, omega_t/Gamma_sc))"
   ]
  },
  {
   "cell_type": "code",
   "execution_count": 15,
   "metadata": {},
   "outputs": [
    {
     "name": "stdout",
     "output_type": "stream",
     "text": [
      "221.09057639586334\n"
     ]
    }
   ],
   "source": [
    "# Limit on temperature from decoherence\n",
    "betahw_lower_limit = atanh(1/(16 / m / 10 * (12 * pi * rho / (W_t**2 * k_c**5))))\n",
    "\n",
    "n_upper_limit = 1 / expm1(betahw_lower_limit)\n",
    "\n",
    "print(n_upper_limit)"
   ]
  },
  {
   "cell_type": "code",
   "execution_count": 16,
   "metadata": {},
   "outputs": [
    {
     "name": "stdout",
     "output_type": "stream",
     "text": [
      "0.03907280683978122\n",
      "25.096503075660262\n"
     ]
    }
   ],
   "source": [
    "# Limit on temperature from field gradient strength\n",
    "mu_B = 9.3e-24 # Bohr magneton\n",
    "G_max = 1e6 # Max magnetic field gradient\n",
    "\n",
    "r_1 = (4*mu_B*G_max)**2\n",
    "l_1 = hbar*m*omega_t**3/(2)\n",
    "\n",
    "beta_lower_lim = 2*atanh(l_1/r_1)\n",
    "\n",
    "print(beta_lower_lim)\n",
    "\n",
    "n_upper_lim = 1 / expm1(beta_lower_lim)\n",
    "\n",
    "print(n_upper_lim)"
   ]
  },
  {
   "cell_type": "code",
   "execution_count": 17,
   "metadata": {},
   "outputs": [
    {
     "name": "stdout",
     "output_type": "stream",
     "text": [
      "25.099758645896113\n"
     ]
    }
   ],
   "source": [
    "bhw_lower_lim = 2*hbar * m * omega_t**3 / (2 * (4 * mu_B *G_max)**2)\n",
    "\n",
    "n_upper_lim = 1 / expm1(bhw_lower_lim)\n",
    "\n",
    "print(n_upper_lim)"
   ]
  },
  {
   "cell_type": "code",
   "execution_count": null,
   "metadata": {},
   "outputs": [],
   "source": []
  }
 ],
 "metadata": {
  "kernelspec": {
   "display_name": "Python 3",
   "language": "python",
   "name": "python3"
  },
  "language_info": {
   "codemirror_mode": {
    "name": "ipython",
    "version": 3
   },
   "file_extension": ".py",
   "mimetype": "text/x-python",
   "name": "python",
   "nbconvert_exporter": "python",
   "pygments_lexer": "ipython3",
   "version": "3.7.3"
  }
 },
 "nbformat": 4,
 "nbformat_minor": 2
}
