{
 "cells": [
  {
   "cell_type": "markdown",
   "metadata": {},
   "source": [
    "# Decoherence rate of a trapped nanoparticle\n",
    "\n",
    "$$\n",
    "\\newcommand{\\Gammatw}{\\frac{P_t}{\\hbar\\omega_L \\pi W_t^2}}\n",
    "\\newcommand{\\Gammacav}{\\frac{n_{ph}c}{2 V_c}}\n",
    "$$\n",
    "\n",
    "From Romero-Isart et. al., PRA 83 013803 (2011) (Eq. 40)\n",
    "\n",
    "$\\Gamma_{sc} = (\\frac{\\hbar}{2m\\omega_t})\\frac{\\epsilon_c^2 k_c^6 V^2}{3 \\pi \\hbar} (\\Gammatw + \\Gammacav)$\n",
    "\n",
    "$ = \\frac{\\epsilon_c^2 k_c^6 V}{6 \\pi \\rho \\omega_t} (\\Gammatw + \\Gammacav)$\n",
    "\n",
    "and Eq. 27\n",
    "\n",
    "$\\omega_t^2 = \\frac{4\\epsilon_c}{\\rho c} \\frac{P_t}{\\pi W_t^4}$"
   ]
  },
  {
   "cell_type": "markdown",
   "metadata": {},
   "source": [
    "$\\epsilon_c \\approx 0.6 $ (Nanosphere's dielectric constant)\n",
    "\n",
    "$k_c = \\frac{2 \\pi}{\\lambda_c}$ (Cavity/Laser wavenumber)\n",
    "\n",
    "$\\lambda_c \\approx 1 \\mu m  $(Cavity/Laser wavelength)\n",
    "\n",
    "$V \\approx 500000 nm^3 $(Volume of nanosphere)\n",
    "\n",
    "$\\rho \\approx 3510 kgm^{-3} $(Density of diamond)\n",
    "\n",
    "$\\omega_t \\approx 1 MHz$\n",
    "\n",
    "$P_t \\approx 1.5 mW $(Laser power)\n",
    "\n",
    "$\\omega_L = 2 \\pi c / \\lambda_c $(Laser frequency)\n",
    "\n",
    "$W_t \\approx 0.4 \\mu m $(Laser beam waist)\n",
    "\n",
    "$n_{ph} \\approx 10^9 $(Steady state cavity population)\n",
    "\n",
    "$V_c \\approx 2 10^{-12} m^{-3} $(Cavity mode volume)"
   ]
  },
  {
   "cell_type": "code",
   "execution_count": 26,
   "metadata": {},
   "outputs": [
    {
     "name": "stdout",
     "output_type": "stream",
     "text": [
      "eps_c: 1.85\n",
      "W_t: 1.59e-06\n",
      "omega_t: 2.29e+04\n",
      "V_c: 2.12e-12\n"
     ]
    }
   ],
   "source": [
    "from math import sqrt\n",
    "\n",
    "# Physical Constants\n",
    "pi = 3.14;\n",
    "c = 3e8 #ms^-1\n",
    "hbar = 1.05e-34\n",
    "\n",
    "# Nanosphere properties\n",
    "rho = 3510 #kgm^-3\n",
    "r = 5e-8 #m\n",
    "V = 4/3 * pi * r**3 #m^3\n",
    "n_diamond = 2.417 # At 0.5nm\n",
    "eps_c = 3*(n_diamond**2 - 1) / (n_diamond**2 + 2)\n",
    "print(\"eps_c: {:.3g}\".format(eps_c))\n",
    "\n",
    "# Laser & tweezer properties\n",
    "lambda_c = 5e-6 #m\n",
    "k_c = 2*pi/lambda_c #m^-1\n",
    "omega_L = 2 * pi * c / lambda_c #Hz\n",
    "P_t = 1.5e-3 #W\n",
    "NA = 1\n",
    "W_t = lambda_c / (pi*NA)#\\ 0.4e-6 #m\n",
    "print(\"W_t: {:.3g}\".format(W_t))\n",
    "omega_t = sqrt(4 * eps_c * P_t / (rho * c * pi * W_t**4))\n",
    "print(\"omega_t: {:.3g}\".format(omega_t))\n",
    "\n",
    "# Cavity Properties\n",
    "n_ph = 7e8\n",
    "L = 4e-3 #m\n",
    "W_c = 2.6e-5 #m\n",
    "V_c = L * pi * W_c**2 / 4 #m^-3\n",
    "print(\"V_c: {:.3g}\".format(V_c))"
   ]
  },
  {
   "cell_type": "code",
   "execution_count": 27,
   "metadata": {},
   "outputs": [
    {
     "name": "stdout",
     "output_type": "stream",
     "text": [
      "Rayleigh cross-section: 1.12e-18\n",
      "Pflanzer cross-section: 4.66e+06\n",
      "\n",
      "Tweezer flux: 5e-07\n",
      "Cavity flux: 0\n",
      "\n",
      "Gamma_sc = 2 * pi * 0.000371 kHz\n",
      "Coherence time: 429 ms (9.81e+03 cycles)\n"
     ]
    }
   ],
   "source": [
    "cs_Pflanzer = eps_c**2 * k_c**6 * V / (6 * pi * rho * omega_t)\n",
    "cs_Rayleigh =  2 * pi**5 * (2*r)**6 * eps_c**2 / (3 * lambda_c**4)\n",
    "cs = cs_Pflanzer\n",
    "\n",
    "print(\"Rayleigh cross-section: {:.3g}\".format(cs_Rayleigh))\n",
    "print(\"Pflanzer cross-section: {:.3g}\".format(cs_Pflanzer))\n",
    "print()\n",
    "\n",
    "\n",
    "flux_tw = P_t / (omega_L * pi * W_t**2)\n",
    "flux_cav = 0*hbar * n_ph * c / (2*V_c)\n",
    "\n",
    "print(\"Tweezer flux: {:.3g}\".format(flux_tw))\n",
    "print(\"Cavity flux: {:.3g}\".format(flux_cav))\n",
    "print()\n",
    "\n",
    "Gamma_tw = cs * flux_tw\n",
    "Gamma_cav = cs * flux_cav\n",
    "Gamma_sc = Gamma_tw + Gamma_cav\n",
    "\n",
    "print(\"Gamma_sc = 2 * pi * {:.3g} kHz\".format(Gamma_sc/(2*pi*1000)))\n",
    "print(\"Coherence time: {:.3g} ms ({:.3g} cycles)\".format(1000/Gamma_sc, omega_t/Gamma_sc))"
   ]
  }
 ],
 "metadata": {
  "kernelspec": {
   "display_name": "Python 3",
   "language": "python",
   "name": "python3"
  },
  "language_info": {
   "codemirror_mode": {
    "name": "ipython",
    "version": 3
   },
   "file_extension": ".py",
   "mimetype": "text/x-python",
   "name": "python",
   "nbconvert_exporter": "python",
   "pygments_lexer": "ipython3",
   "version": "3.6.5"
  }
 },
 "nbformat": 4,
 "nbformat_minor": 2
}
