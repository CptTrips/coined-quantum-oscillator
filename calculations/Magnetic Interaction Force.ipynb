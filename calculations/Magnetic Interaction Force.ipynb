{
 "cells": [
  {
   "cell_type": "markdown",
   "metadata": {},
   "source": [
    "From Scala 2013 the magnetic interaction force is given by:\n",
    "\n",
    "$$ F = \\frac{3 \\mu_0 m_z z_0}{4 \\pi z_0^5} g_{NV} \\mu_B $$\n",
    "\n",
    "### Definitions\n",
    "\n",
    "Distance to magnet: $z_0 \\approx 120 \\mathrm{\\mu m}$ \n",
    "\n",
    "Magnetic moment: $m_z = \\frac{4}{3} \\pi r_0^3 M$ \n",
    "\n",
    "Magnetisation density: $M \\approx 1.5 \\times 10^6 \\mathrm{A / m}$\n",
    "\n",
    "Magnet radius: $r_0 \\approx 40 \\mathrm{\\mu m}$\n",
    "\n",
    "Vacuum permeability: $\\mu_0 \\approx 1.26 \\mathrm{\\mu m T / A}$\n",
    "\n",
    "Bohr magneton: $\\mu_B \\approx 9.27 \\times 10^{-24} \\mathrm{J / T}$\n",
    "\n",
    "NV g-factor: $g_{NV} \\approx 2$"
   ]
  },
  {
   "cell_type": "code",
   "execution_count": 5,
   "metadata": {},
   "outputs": [
    {
     "name": "stdout",
     "output_type": "stream",
     "text": [
      "m_z: 4.019200000000001e-07 A m^2\n"
     ]
    }
   ],
   "source": [
    "pi = 3.14\n",
    "\n",
    "z_0 = 120e-6\n",
    "\n",
    "M = 1.5e6\n",
    "r_0 = 40e-6\n",
    "m_z = 4/3*pi*r_0**3*M\n",
    "print(\"m_z: {} A m^2\".format(m_z))\n",
    "\n",
    "mu_0 = 1.2e-6\n",
    "\n",
    "mu_B = 9.27e-24\n",
    "\n",
    "g_NV = 2"
   ]
  },
  {
   "cell_type": "code",
   "execution_count": 7,
   "metadata": {},
   "outputs": [
    {
     "name": "stdout",
     "output_type": "stream",
     "text": [
      "F: 1.0300000000000002e-20 N\n"
     ]
    }
   ],
   "source": [
    "F = (3 * mu_0 * m_z * z_0) / (4 * pi * z_0**5) * g_NV * mu_B\n",
    "print(\"F: {} N\".format(F))"
   ]
  }
 ],
 "metadata": {
  "kernelspec": {
   "display_name": "Python 3",
   "language": "python",
   "name": "python3"
  },
  "language_info": {
   "codemirror_mode": {
    "name": "ipython",
    "version": 3
   },
   "file_extension": ".py",
   "mimetype": "text/x-python",
   "name": "python",
   "nbconvert_exporter": "python",
   "pygments_lexer": "ipython3",
   "version": "3.6.5"
  }
 },
 "nbformat": 4,
 "nbformat_minor": 2
}
